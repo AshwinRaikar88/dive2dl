{
  "nbformat": 4,
  "nbformat_minor": 0,
  "metadata": {
    "colab": {
      "provenance": [],
      "authorship_tag": "ABX9TyO82Zn8Sdfb4Bu5l5FAOhTL",
      "include_colab_link": true
    },
    "kernelspec": {
      "name": "python3",
      "display_name": "Python 3"
    },
    "language_info": {
      "name": "python"
    }
  },
  "cells": [
    {
      "cell_type": "markdown",
      "metadata": {
        "id": "view-in-github",
        "colab_type": "text"
      },
      "source": [
        "<a href=\"https://colab.research.google.com/github/AshwinRaikar88/dive2dl/blob/tensorflow/Notebooks/2.1_Data_Manipulation.ipynb\" target=\"_parent\"><img src=\"https://colab.research.google.com/assets/colab-badge.svg\" alt=\"Open In Colab\"/></a>"
      ]
    },
    {
      "cell_type": "code",
      "execution_count": null,
      "metadata": {
        "id": "nEkvd0Jumitk"
      },
      "outputs": [],
      "source": [
        "import tensorflow as tf\n",
        "from tensorflow.python.ops.numpy_ops import np_config\n",
        "np_config.enable_numpy_behavior()"
      ]
    },
    {
      "cell_type": "markdown",
      "source": [
        "# Data Manipulation \n",
        "\n",
        "A tensor represents a (possibly multi-dimensional) array of numerical values. \n",
        "\n",
        "\n",
        "* With *one axis* (K=1), a tensor is called a **Vector**. \n",
        "\n",
        "* With *two axes* (K=2), a tensor is called a **Matrix**. \n",
        "\n",
        "* With *K > 2 axes*, we drop the specialized names and just refer to the object as a **Kth order tensor**."
      ],
      "metadata": {
        "id": "aPpeKwKPm40-"
      }
    },
    {
      "cell_type": "markdown",
      "source": [
        "## tf.range()\n",
        "\n",
        "The range(n) function, creates a vector of evenly spaced values, starting at 0 (included) and ending at n (not included). By Default the step size (Delta) is 1.Unless otherwise specified, New tensors are stored in main memory and designated for CPU-based computation."
      ],
      "metadata": {
        "id": "4dQE6_JPnzA0"
      }
    },
    {
      "cell_type": "code",
      "source": [
        "x = tf.range(12, dtype=tf.float32)\n",
        "x # x is a vector with 12 elements"
      ],
      "metadata": {
        "colab": {
          "base_uri": "https://localhost:8080/"
        },
        "id": "iZnrGlQWmkEQ",
        "outputId": "70fd8476-4ce3-43b9-9c9b-3cc7a823e87e"
      },
      "execution_count": null,
      "outputs": [
        {
          "output_type": "execute_result",
          "data": {
            "text/plain": [
              "<tf.Tensor: shape=(12,), dtype=float32, numpy=\n",
              "array([ 0.,  1.,  2.,  3.,  4.,  5.,  6.,  7.,  8.,  9., 10., 11.],\n",
              "      dtype=float32)>"
            ]
          },
          "metadata": {},
          "execution_count": 14
        }
      ]
    },
    {
      "cell_type": "code",
      "source": [
        "x = tf.range(12, delta=2, dtype=tf.float32)\n",
        "x # we will have 6 elements (Note that 12 is excluded)"
      ],
      "metadata": {
        "colab": {
          "base_uri": "https://localhost:8080/"
        },
        "id": "L1tALJH3pdnz",
        "outputId": "a0735e63-e01f-4ac1-c7a5-3e0164e9c259"
      },
      "execution_count": null,
      "outputs": [
        {
          "output_type": "execute_result",
          "data": {
            "text/plain": [
              "<tf.Tensor: shape=(6,), dtype=float32, numpy=array([ 0.,  2.,  4.,  6.,  8., 10.], dtype=float32)>"
            ]
          },
          "metadata": {},
          "execution_count": 15
        }
      ]
    },
    {
      "cell_type": "code",
      "source": [
        "x = tf.range(start=1, limit=13, delta=1, dtype=tf.float32)\n",
        "x # we will have 12 elements starting from 1 to 12"
      ],
      "metadata": {
        "colab": {
          "base_uri": "https://localhost:8080/"
        },
        "id": "SdfPE-Gvpdvk",
        "outputId": "26cd49a3-bc31-4fc8-b7a8-0834386c4dd9"
      },
      "execution_count": null,
      "outputs": [
        {
          "output_type": "execute_result",
          "data": {
            "text/plain": [
              "<tf.Tensor: shape=(12,), dtype=float32, numpy=\n",
              "array([ 1.,  2.,  3.,  4.,  5.,  6.,  7.,  8.,  9., 10., 11., 12.],\n",
              "      dtype=float32)>"
            ]
          },
          "metadata": {},
          "execution_count": 16
        }
      ]
    },
    {
      "cell_type": "markdown",
      "source": [
        "Each of these values is called an element of the tensor. The tensor x contains 12 elements. We can inspect the total number of elements in a tensor via the size function."
      ],
      "metadata": {
        "id": "OjGkfKr2oldF"
      }
    },
    {
      "cell_type": "code",
      "source": [
        "x.shape"
      ],
      "metadata": {
        "colab": {
          "base_uri": "https://localhost:8080/"
        },
        "id": "y-oj617kmp33",
        "outputId": "f3b5a0a6-435a-40f6-eee7-d2ddf2188ca3"
      },
      "execution_count": null,
      "outputs": [
        {
          "output_type": "execute_result",
          "data": {
            "text/plain": [
              "TensorShape([12])"
            ]
          },
          "metadata": {},
          "execution_count": 6
        }
      ]
    },
    {
      "cell_type": "markdown",
      "source": [
        "## tf.reshape()\n",
        "\n",
        "We can change the shape of a tensor without altering its size or values, by invoking reshape. For example, we can transform our vector x whose shape is (12,) to a matrix X with shape (3, 4). This new tensor retains all elements but reconfigures them into a matrix. Notice that the elements of our vector are laid out one row at a time and thus x[3] == X[0, 3]."
      ],
      "metadata": {
        "id": "L_-hjCuco7Lq"
      }
    },
    {
      "cell_type": "code",
      "source": [
        "X = tf.reshape(x, (3, 4))\n",
        "X"
      ],
      "metadata": {
        "colab": {
          "base_uri": "https://localhost:8080/"
        },
        "id": "CyvLetQEowQs",
        "outputId": "0fbb03d9-3ec5-4f7c-cb20-23946a59581d"
      },
      "execution_count": null,
      "outputs": [
        {
          "output_type": "execute_result",
          "data": {
            "text/plain": [
              "<tf.Tensor: shape=(3, 4), dtype=float32, numpy=\n",
              "array([[ 1.,  2.,  3.,  4.],\n",
              "       [ 5.,  6.,  7.,  8.],\n",
              "       [ 9., 10., 11., 12.]], dtype=float32)>"
            ]
          },
          "metadata": {},
          "execution_count": 20
        }
      ]
    },
    {
      "cell_type": "code",
      "source": [
        "# Notice that the elements of our vector are laid out one row at a time and thus x[3] == X[0, 3]\n",
        "x[3] == X[0][3]"
      ],
      "metadata": {
        "colab": {
          "base_uri": "https://localhost:8080/"
        },
        "id": "MGDSo1QFpG03",
        "outputId": "e4a052c6-37e6-42a7-e5a5-0b2614ca194f"
      },
      "execution_count": null,
      "outputs": [
        {
          "output_type": "execute_result",
          "data": {
            "text/plain": [
              "<tf.Tensor: shape=(), dtype=bool, numpy=True>"
            ]
          },
          "metadata": {},
          "execution_count": 23
        }
      ]
    },
    {
      "cell_type": "markdown",
      "source": [
        "Note that specifying every shape component to reshape is redundant. Because we already know our tensor’s size, we can work out one component of the shape given the rest. \n",
        "\n",
        "For example, given a tensor of size  and target shape (, ), we know that . To automatically infer one component of the shape, we can place a -1 for the shape component that should be inferred automatically. In our case, instead of calling x.reshape(3, 4), we could have equivalently called x.reshape(-1, 4) or x.reshape(3, -1)."
      ],
      "metadata": {
        "id": "-hgWiOCEsY8g"
      }
    },
    {
      "cell_type": "code",
      "source": [
        "x.reshape(3, -1)"
      ],
      "metadata": {
        "colab": {
          "base_uri": "https://localhost:8080/"
        },
        "id": "gnAKwf48sYjz",
        "outputId": "28f6b2df-8deb-433a-db19-80dc2bb8a04f"
      },
      "execution_count": null,
      "outputs": [
        {
          "output_type": "execute_result",
          "data": {
            "text/plain": [
              "<tf.Tensor: shape=(3, 4), dtype=float32, numpy=\n",
              "array([[ 1.,  2.,  3.,  4.],\n",
              "       [ 5.,  6.,  7.,  8.],\n",
              "       [ 9., 10., 11., 12.]], dtype=float32)>"
            ]
          },
          "metadata": {},
          "execution_count": 50
        }
      ]
    },
    {
      "cell_type": "code",
      "source": [
        "x.reshape(-1, 4)"
      ],
      "metadata": {
        "colab": {
          "base_uri": "https://localhost:8080/"
        },
        "id": "CM6cG-7Lr34H",
        "outputId": "bd0820e8-d9be-4891-9260-0837e0a15a30"
      },
      "execution_count": null,
      "outputs": [
        {
          "output_type": "execute_result",
          "data": {
            "text/plain": [
              "<tf.Tensor: shape=(3, 4), dtype=float32, numpy=\n",
              "array([[ 1.,  2.,  3.,  4.],\n",
              "       [ 5.,  6.,  7.,  8.],\n",
              "       [ 9., 10., 11., 12.]], dtype=float32)>"
            ]
          },
          "metadata": {},
          "execution_count": 51
        }
      ]
    },
    {
      "cell_type": "code",
      "source": [],
      "metadata": {
        "id": "IvtH-4PEvHKs"
      },
      "execution_count": null,
      "outputs": []
    }
  ]
}